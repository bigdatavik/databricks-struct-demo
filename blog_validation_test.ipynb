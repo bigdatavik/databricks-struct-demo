{
  "cells": [
    {
      "cell_type": "markdown",
      "metadata": {},
      "source": [
        "# Modern Approaches to Struct Aggregation in Databricks\n",
        "\n",
        "## Working with Nested Healthcare Data: From Deprecated to Modern SQL\n",
        "\n",
        "This notebook demonstrates the evolution from deprecated `LATERAL VIEW` syntax to modern table-valued function approaches in Databricks Runtime 12.2+. We'll explore different methods for aggregating nested struct data using a healthcare claims example.\n",
        "\n",
        "### 📋 What You'll Learn:\n",
        "- ❌ Why `LATERAL VIEW` is deprecated and what to use instead\n",
        "- ✅ Modern table-valued function syntax for exploding arrays\n",
        "- 🔄 Traditional aggregation vs. higher-order functions\n",
        "- 🏗️ How to rebuild structs with calculated values\n",
        "\n",
        "### 🏥 Use Case: Healthcare Claims Processing\n",
        "We'll work with a realistic nested data structure representing medical claims with header information and detailed line items.\n"
      ]
    },
    {
      "cell_type": "code",
      "execution_count": 1,
      "metadata": {},
      "outputs": [],
      "source": [
        "from pyspark.sql import SparkSession\n",
        "from pyspark.sql.types import *\n",
        "from pyspark.sql.functions import *\n",
        "\n",
        "# Initialize Spark session\n",
        "spark = SparkSession.builder.appName(\"BlogValidationTest\").getOrCreate()\n"
      ]
    },
    {
      "cell_type": "markdown",
      "metadata": {},
      "source": [
        "## 1. Sample Data Setup\n",
        "\n",
        "Let's create a realistic healthcare claims dataset with nested structures. Each claim has:\n",
        "- **Header information**: claim ID, line of business, total charges\n",
        "- **Detail array**: individual charge line items with amounts and units\n"
      ]
    },
    {
      "cell_type": "code",
      "execution_count": 2,
      "metadata": {},
      "outputs": [
        {
          "name": "stdout",
          "output_type": "stream",
          "text": [
            "Created test data:\n",
            "+------------------------------+-------------------------+\n",
            "|claimHeader                   |claimDetail              |\n",
            "+------------------------------+-------------------------+\n",
            "|{ABC123456789, Medicaid, 3.25}|[{1.25, 1.0}, {2.0, 1.0}]|\n",
            "+------------------------------+-------------------------+\n",
            "\n",
            "root\n",
            " |-- claimHeader: struct (nullable = true)\n",
            " |    |-- claimId: string (nullable = true)\n",
            " |    |-- lineOfBusiness: string (nullable = true)\n",
            " |    |-- totalCharges: double (nullable = true)\n",
            " |-- claimDetail: array (nullable = true)\n",
            " |    |-- element: struct (containsNull = true)\n",
            " |    |    |-- chargeAmount: double (nullable = true)\n",
            " |    |    |-- units: double (nullable = true)\n",
            "\n"
          ]
        }
      ],
      "source": [
        "# Create the nested data structure matching the blog screenshot\n",
        "medicaid_data = [\n",
        "    {\n",
        "        \"claimHeader\": {\n",
        "            \"claimId\": \"ABC123456789\",\n",
        "            \"lineOfBusiness\": \"Medicaid\",\n",
        "            \"totalCharges\": 3.25\n",
        "        },\n",
        "        \"claimDetail\": [\n",
        "            {\"chargeAmount\": 1.25, \"units\": 1.00},\n",
        "            {\"chargeAmount\": 2.00, \"units\": 1.00}\n",
        "        ]\n",
        "    }\n",
        "]\n",
        "\n",
        "# Define the schema\n",
        "schema = StructType([\n",
        "    StructField(\"claimHeader\", StructType([\n",
        "        StructField(\"claimId\", StringType(), True),\n",
        "        StructField(\"lineOfBusiness\", StringType(), True),\n",
        "        StructField(\"totalCharges\", DoubleType(), True)\n",
        "    ]), True),\n",
        "    StructField(\"claimDetail\", ArrayType(StructType([\n",
        "        StructField(\"chargeAmount\", DoubleType(), True),\n",
        "        StructField(\"units\", DoubleType(), True)\n",
        "    ])), True)\n",
        "])\n",
        "\n",
        "# Create DataFrame\n",
        "myClaimsTable = spark.createDataFrame(medicaid_data, schema)\n",
        "myClaimsTable.createOrReplaceTempView(\"myClaimsTable\")\n",
        "\n",
        "print(\"Created test data:\")\n",
        "myClaimsTable.show(truncate=False)\n",
        "myClaimsTable.printSchema()\n"
      ]
    },
    {
      "cell_type": "markdown",
      "metadata": {},
      "source": [
        "## 2. The Deprecated Approach: LATERAL VIEW\n",
        "\n",
        "⚠️ **Important**: `LATERAL VIEW` is deprecated in Databricks Runtime 12.2+ but still works. This section shows the old syntax for comparison.\n"
      ]
    },
    {
      "cell_type": "code",
      "execution_count": 3,
      "metadata": {
        "vscode": {
          "languageId": "sql"
        }
      },
      "outputs": [
        {
          "data": {
            "application/vnd.jupyter.widget-view+json": {
              "model_id": "b78aa048b212433b87c519fac3ff14f2",
              "version_major": 2,
              "version_minor": 0
            },
            "text/plain": [
              "HBox(children=(IntProgress(value=0, bar_style='success'), Label(value='')))"
            ]
          },
          "metadata": {},
          "output_type": "display_data"
        },
        {
          "data": {
            "text/html": [
              "<table border=\"1\" class=\"dataframe\">\n",
              "  <thead>\n",
              "    <tr style=\"text-align: right;\">\n",
              "      <th></th>\n",
              "      <th>claimId</th>\n",
              "      <th>lineOfBusiness</th>\n",
              "      <th>chargeAmount</th>\n",
              "      <th>units</th>\n",
              "    </tr>\n",
              "  </thead>\n",
              "  <tbody>\n",
              "    <tr>\n",
              "      <th>0</th>\n",
              "      <td>ABC123456789</td>\n",
              "      <td>Medicaid</td>\n",
              "      <td>1.25</td>\n",
              "      <td>1.0</td>\n",
              "    </tr>\n",
              "    <tr>\n",
              "      <th>1</th>\n",
              "      <td>ABC123456789</td>\n",
              "      <td>Medicaid</td>\n",
              "      <td>2.00</td>\n",
              "      <td>1.0</td>\n",
              "    </tr>\n",
              "  </tbody>\n",
              "</table>"
            ],
            "text/plain": [
              "DataFrame[claimId: string, lineOfBusiness: string, chargeAmount: double, units: double]"
            ]
          },
          "execution_count": 3,
          "metadata": {},
          "output_type": "execute_result"
        }
      ],
      "source": [
        "\n",
        "%sql\n",
        "-- DEPRECATED SYNTAX (still works but not recommended)\n",
        "SELECT \n",
        "    claimHeader.claimId,\n",
        "    claimHeader.lineOfBusiness,\n",
        "    d.chargeAmount,\n",
        "    d.units\n",
        "FROM myClaimsTable\n",
        "LATERAL VIEW explode(claimDetail) AS d\n"
      ]
    },
    {
      "cell_type": "markdown",
      "metadata": {},
      "source": [
        "## 3. Modern Approach: Table-Valued Functions ✅\n",
        "\n",
        "**Recommended for Databricks Runtime 12.2+**\n",
        "\n",
        "This is the modern way to explode arrays using table-valued functions as table references:\n"
      ]
    },
    {
      "cell_type": "code",
      "execution_count": 4,
      "metadata": {
        "vscode": {
          "languageId": "sql"
        }
      },
      "outputs": [
        {
          "data": {
            "application/vnd.jupyter.widget-view+json": {
              "model_id": "eafa5d9b45e144cabd66cdb43c1a8efc",
              "version_major": 2,
              "version_minor": 0
            },
            "text/plain": [
              "HBox(children=(IntProgress(value=0, bar_style='success'), Label(value='')))"
            ]
          },
          "metadata": {},
          "output_type": "display_data"
        },
        {
          "data": {
            "text/html": [
              "<table border=\"1\" class=\"dataframe\">\n",
              "  <thead>\n",
              "    <tr style=\"text-align: right;\">\n",
              "      <th></th>\n",
              "      <th>claimId</th>\n",
              "      <th>lineOfBusiness</th>\n",
              "      <th>chargeAmount</th>\n",
              "      <th>units</th>\n",
              "    </tr>\n",
              "  </thead>\n",
              "  <tbody>\n",
              "    <tr>\n",
              "      <th>0</th>\n",
              "      <td>ABC123456789</td>\n",
              "      <td>Medicaid</td>\n",
              "      <td>1.25</td>\n",
              "      <td>1.0</td>\n",
              "    </tr>\n",
              "    <tr>\n",
              "      <th>1</th>\n",
              "      <td>ABC123456789</td>\n",
              "      <td>Medicaid</td>\n",
              "      <td>2.00</td>\n",
              "      <td>1.0</td>\n",
              "    </tr>\n",
              "  </tbody>\n",
              "</table>"
            ],
            "text/plain": [
              "DataFrame[claimId: string, lineOfBusiness: string, chargeAmount: double, units: double]"
            ]
          },
          "execution_count": 4,
          "metadata": {},
          "output_type": "execute_result"
        }
      ],
      "source": [
        "%sql\n",
        "-- MODERN SYNTAX (Recommended for Runtime 12.2+)\n",
        "SELECT \n",
        "    claimHeader.claimId,\n",
        "    claimHeader.lineOfBusiness,\n",
        "    d.col.chargeAmount,\n",
        "    d.col.units\n",
        "FROM myClaimsTable,\n",
        "    LATERAL explode(claimDetail) AS d\n"
      ]
    },
    {
      "cell_type": "markdown",
      "metadata": {},
      "source": [
        "## 4. Aggregation with Modern Syntax\n",
        "\n",
        "Now let's calculate totals by aggregating the exploded data. This is useful when you need to recalculate totals or perform analytics on individual line items:\n"
      ]
    },
    {
      "cell_type": "code",
      "execution_count": 5,
      "metadata": {},
      "outputs": [
        {
          "data": {
            "application/vnd.jupyter.widget-view+json": {
              "model_id": "e60d7597f9954503b91038d2d5b8c16a",
              "version_major": 2,
              "version_minor": 0
            },
            "text/plain": [
              "HBox(children=(IntProgress(value=0, bar_style='success'), Label(value='')))"
            ]
          },
          "metadata": {},
          "output_type": "display_data"
        },
        {
          "data": {
            "text/html": [
              "<table border=\"1\" class=\"dataframe\">\n",
              "  <thead>\n",
              "    <tr style=\"text-align: right;\">\n",
              "      <th></th>\n",
              "      <th>claimId</th>\n",
              "      <th>claimTotal</th>\n",
              "    </tr>\n",
              "  </thead>\n",
              "  <tbody>\n",
              "    <tr>\n",
              "      <th>0</th>\n",
              "      <td>ABC123456789</td>\n",
              "      <td>3.25</td>\n",
              "    </tr>\n",
              "  </tbody>\n",
              "</table>"
            ],
            "text/plain": [
              "DataFrame[claimId: string, claimTotal: double]"
            ]
          },
          "execution_count": 5,
          "metadata": {},
          "output_type": "execute_result"
        }
      ],
      "source": [
        "%sql\n",
        "SELECT\n",
        "  claimHeader.claimId,\n",
        "  SUM(detail.col.chargeAmount * detail.col.units) AS claimTotal\n",
        "FROM myClaimsTable,\n",
        "  LATERAL explode(claimDetail) AS detail\n",
        "GROUP BY claimHeader.claimId\n"
      ]
    },
    {
      "cell_type": "markdown",
      "metadata": {},
      "source": [
        "## 5. Higher-Order Functions: The Most Efficient Approach 🚀\n",
        "\n",
        "For better performance and cleaner code, use higher-order functions like `aggregate()`. This avoids exploding rows entirely:\n"
      ]
    },
    {
      "cell_type": "code",
      "execution_count": 6,
      "metadata": {
        "vscode": {
          "languageId": "sql"
        }
      },
      "outputs": [
        {
          "data": {
            "text/html": [
              "<table border=\"1\" class=\"dataframe\">\n",
              "  <thead>\n",
              "    <tr style=\"text-align: right;\">\n",
              "      <th></th>\n",
              "      <th>claimId</th>\n",
              "      <th>lineOfBusiness</th>\n",
              "      <th>original_totalCharges</th>\n",
              "      <th>calculated_totalCharges</th>\n",
              "    </tr>\n",
              "  </thead>\n",
              "  <tbody>\n",
              "    <tr>\n",
              "      <th>0</th>\n",
              "      <td>ABC123456789</td>\n",
              "      <td>Medicaid</td>\n",
              "      <td>3.25</td>\n",
              "      <td>3.25</td>\n",
              "    </tr>\n",
              "  </tbody>\n",
              "</table>"
            ],
            "text/plain": [
              "DataFrame[claimId: string, lineOfBusiness: string, original_totalCharges: double, calculated_totalCharges: double]"
            ]
          },
          "execution_count": 6,
          "metadata": {},
          "output_type": "execute_result"
        }
      ],
      "source": [
        "%sql\n",
        "SELECT \n",
        "    claimHeader.claimId,\n",
        "    claimHeader.lineOfBusiness,\n",
        "    claimHeader.totalCharges as original_totalCharges,\n",
        "    aggregate(claimDetail, CAST(0.0 AS DOUBLE), (acc, detail) -> acc + detail.chargeAmount * detail.units) as calculated_totalCharges\n",
        "FROM myClaimsTable\n"
      ]
    },
    {
      "cell_type": "markdown",
      "metadata": {},
      "source": [
        "## 6. Rebuilding Structs with Calculated Values\n",
        "\n",
        "Often you need to update nested structures with calculated values. Here's how to rebuild the original struct with the corrected total:\n"
      ]
    },
    {
      "cell_type": "code",
      "execution_count": 7,
      "metadata": {
        "vscode": {
          "languageId": "sql"
        }
      },
      "outputs": [
        {
          "data": {
            "text/html": [
              "<table border=\"1\" class=\"dataframe\">\n",
              "  <thead>\n",
              "    <tr style=\"text-align: right;\">\n",
              "      <th></th>\n",
              "      <th>claimHeader</th>\n",
              "      <th>claimDetail</th>\n",
              "    </tr>\n",
              "  </thead>\n",
              "  <tbody>\n",
              "    <tr>\n",
              "      <th>0</th>\n",
              "      <td>{'claimId': 'ABC123456789', 'lineOfBusiness': 'Medicaid', 'col3': 3.25}</td>\n",
              "      <td>[{'chargeAmount': 1.25, 'units': 1.0}, {'chargeAmount': 2.0, 'units': 1.0}]</td>\n",
              "    </tr>\n",
              "  </tbody>\n",
              "</table>"
            ],
            "text/plain": [
              "DataFrame[claimHeader: struct<claimId:string,lineOfBusiness:string,col3:double>, claimDetail: array<struct<chargeAmount:double,units:double>>]"
            ]
          },
          "execution_count": 7,
          "metadata": {},
          "output_type": "execute_result"
        }
      ],
      "source": [
        "%sql\n",
        "SELECT \n",
        "    struct(\n",
        "        claimHeader.claimId,\n",
        "        claimHeader.lineOfBusiness,\n",
        "        aggregate(claimDetail, CAST(0.0 AS DOUBLE), (acc, detail) -> acc + detail.chargeAmount * detail.units)\n",
        "    ) as claimHeader,\n",
        "    claimDetail\n",
        "FROM myClaimsTable\n"
      ]
    },
    {
      "cell_type": "markdown",
      "metadata": {},
      "source": [
        "## 📊 Performance & Approach Comparison\n",
        "\n",
        "### **Approach Recommendations:**\n",
        "\n",
        "| Method | Use Case | Performance | Complexity |\n",
        "|--------|----------|-------------|------------|\n",
        "| **Higher-Order Functions** | Simple aggregations, large datasets | ⭐⭐⭐ Best | ⭐⭐ Medium |\n",
        "| **Modern LATERAL** | Complex queries, familiar SQL patterns | ⭐⭐ Good | ⭐ Easy |\n",
        "| **LATERAL VIEW** | Legacy codebases only | ⭐⭐ Good | ⭐ Easy |\n",
        "\n",
        "### **Key Syntax Evolution:**\n",
        "\n",
        "```sql\n",
        "-- ❌ DEPRECATED (Databricks Runtime 12.2+)\n",
        "FROM myClaimsTable\n",
        "LATERAL VIEW explode(claimDetail) AS d\n",
        "\n",
        "-- ✅ MODERN (Recommended)\n",
        "FROM myClaimsTable,\n",
        "    LATERAL explode(claimDetail) AS d\n",
        "\n",
        "-- 🚀 BEST (Higher-order functions)\n",
        "aggregate(claimDetail, 0.0, (acc, detail) -> acc + detail.chargeAmount * detail.units)\n",
        "```\n",
        "\n",
        "## 🎯 Best Practices & Recommendations\n",
        "\n",
        "1. **For New Development**: Use higher-order functions (`aggregate`, `transform`, `filter`)\n",
        "2. **For Migration**: Replace `LATERAL VIEW` with modern table-valued function syntax\n",
        "3. **For Performance**: Higher-order functions avoid row explosion and are more efficient\n",
        "4. **For Readability**: Choose the approach your team is most comfortable with\n",
        "\n",
        "## 📚 References\n",
        "\n",
        "- [Databricks LATERAL VIEW Documentation](https://learn.microsoft.com/en-us/azure/databricks/sql/language-manual/sql-ref-syntax-qry-select-lateral-view)\n",
        "- [Modern Table Reference Syntax](https://learn.microsoft.com/en-us/azure/databricks/sql/language-manual/sql-ref-syntax-qry-select-table-reference)\n",
        "- [Higher-Order Functions in Spark SQL](https://spark.apache.org/docs/latest/sql-ref-functions-builtin.html#higher-order-functions)\n",
        "\n",
        "---\n",
        "\n",
        "**💡 Pro Tip**: Start with higher-order functions for new projects. They're more performant and represent the future direction of Spark SQL development.\n"
      ]
    }
  ],
  "metadata": {
    "kernelspec": {
      "display_name": "azure_databricks",
      "language": "python",
      "name": "python3"
    },
    "language_info": {
      "codemirror_mode": {
        "name": "ipython",
        "version": 3
      },
      "file_extension": ".py",
      "mimetype": "text/x-python",
      "name": "python",
      "nbconvert_exporter": "python",
      "pygments_lexer": "ipython3",
      "version": "3.12.0"
    }
  },
  "nbformat": 4,
  "nbformat_minor": 2
}
