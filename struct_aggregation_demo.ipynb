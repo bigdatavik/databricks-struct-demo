{
  "cells": [
    {
      "cell_type": "markdown",
      "metadata": {},
      "source": [
        "# Databricks STRUCT Aggregation Demo\n",
        "\n",
        "This notebook demonstrates modern approaches to aggregate `chargeAmount` fields within STRUCT arrays in Databricks, replacing deprecated `EXPLODE` and `LATERAL VIEW` patterns.\n"
      ]
    },
    {
      "cell_type": "code",
      "execution_count": 1,
      "metadata": {},
      "outputs": [],
      "source": [
        "# Create sample data that matches your structure\n",
        "from pyspark.sql import SparkSession\n",
        "from pyspark.sql.types import *\n",
        "from pyspark.sql.functions import *\n",
        "\n",
        "# Initialize Spark session (already available in Databricks as 'spark')\n",
        "# spark = SparkSession.builder.appName(\"StructAggregationDemo\").getOrCreate()\n"
      ]
    },
    {
      "cell_type": "code",
      "execution_count": 4,
      "metadata": {},
      "outputs": [
        {
          "name": "stdout",
          "output_type": "stream",
          "text": [
            "Schema defined successfully\n"
          ]
        }
      ],
      "source": [
        "# Define the schema for our nested structure\n",
        "schema = StructType([\n",
        "    StructField(\"claimHeader\", StructType([\n",
        "        StructField(\"claimId\", StringType(), True),\n",
        "        StructField(\"lineOfBusiness\", StringType(), True),\n",
        "        StructField(\"totalCharges\", DoubleType(), True)\n",
        "    ]), True),\n",
        "    StructField(\"claimDetail\", ArrayType(StructType([\n",
        "        StructField(\"chargeAmount\", DoubleType(), True),\n",
        "        StructField(\"units\", DoubleType(), True)\n",
        "    ])), True)\n",
        "])\n",
        "\n",
        "print(\"Schema defined successfully\")\n"
      ]
    },
    {
      "cell_type": "code",
      "execution_count": 5,
      "metadata": {},
      "outputs": [
        {
          "name": "stdout",
          "output_type": "stream",
          "text": [
            "Sample data created and registered as 'claims_table'\n",
            "+-------------------------------+--------------------------------------+\n",
            "|claimHeader                    |claimDetail                           |\n",
            "+-------------------------------+--------------------------------------+\n",
            "|{ABC123456789, Medicaid, 3.25} |[{1.25, 1.0}, {2.0, 1.0}]             |\n",
            "|{XYZ987654321, Medicare, 0.0}  |[{5.5, 2.0}, {3.75, 1.0}, {1.25, 1.0}]|\n",
            "|{DEF555666777, Commercial, 0.0}|[{12.5, 1.0}]                         |\n",
            "+-------------------------------+--------------------------------------+\n",
            "\n"
          ]
        }
      ],
      "source": [
        "# Create sample data matching your example\n",
        "sample_data = [\n",
        "    {\n",
        "        \"claimHeader\": {\n",
        "            \"claimId\": \"ABC123456789\",\n",
        "            \"lineOfBusiness\": \"Medicaid\",\n",
        "            \"totalCharges\": 3.25  # This should match the sum of claimDetail charges\n",
        "        },\n",
        "        \"claimDetail\": [\n",
        "            {\"chargeAmount\": 1.25, \"units\": 1.00},\n",
        "            {\"chargeAmount\": 2.00, \"units\": 1.00}\n",
        "        ]\n",
        "    },\n",
        "    {\n",
        "        \"claimHeader\": {\n",
        "            \"claimId\": \"XYZ987654321\",\n",
        "            \"lineOfBusiness\": \"Medicare\",\n",
        "            \"totalCharges\": 0.0  # We'll calculate this\n",
        "        },\n",
        "        \"claimDetail\": [\n",
        "            {\"chargeAmount\": 5.50, \"units\": 2.00},\n",
        "            {\"chargeAmount\": 3.75, \"units\": 1.00},\n",
        "            {\"chargeAmount\": 1.25, \"units\": 1.00}\n",
        "        ]\n",
        "    },\n",
        "    {\n",
        "        \"claimHeader\": {\n",
        "            \"claimId\": \"DEF555666777\",\n",
        "            \"lineOfBusiness\": \"Commercial\",\n",
        "            \"totalCharges\": 0.0\n",
        "        },\n",
        "        \"claimDetail\": [\n",
        "            {\"chargeAmount\": 12.50, \"units\": 1.00}\n",
        "        ]\n",
        "    }\n",
        "]\n",
        "\n",
        "# Create DataFrame\n",
        "df = spark.createDataFrame(sample_data, schema)\n",
        "df.createOrReplaceTempView(\"claims_table\")\n",
        "\n",
        "print(\"Sample data created and registered as 'claims_table'\")\n",
        "df.show(truncate=False)\n"
      ]
    },
    {
      "cell_type": "markdown",
      "metadata": {},
      "source": [
        "## Method 1: Using `aggregate()` Function (Recommended)\n",
        "\n",
        "The `aggregate()` function is the most flexible and performant approach for summing array elements.\n"
      ]
    },
    {
      "cell_type": "code",
      "execution_count": 6,
      "metadata": {
        "vscode": {
          "languageId": "sql"
        }
      },
      "outputs": [
        {
          "data": {
            "text/html": [
              "<table border=\"1\" class=\"dataframe\">\n",
              "  <thead>\n",
              "    <tr style=\"text-align: right;\">\n",
              "      <th></th>\n",
              "      <th>claimId</th>\n",
              "      <th>lineOfBusiness</th>\n",
              "      <th>original_totalCharges</th>\n",
              "      <th>calculated_totalCharges</th>\n",
              "      <th>claimDetail</th>\n",
              "    </tr>\n",
              "  </thead>\n",
              "  <tbody>\n",
              "    <tr>\n",
              "      <th>0</th>\n",
              "      <td>ABC123456789</td>\n",
              "      <td>Medicaid</td>\n",
              "      <td>3.25</td>\n",
              "      <td>3.25</td>\n",
              "      <td>[{'chargeAmount': 1.25, 'units': 1.0}, {'chargeAmount': 2.0, 'units': 1.0}]</td>\n",
              "    </tr>\n",
              "    <tr>\n",
              "      <th>1</th>\n",
              "      <td>XYZ987654321</td>\n",
              "      <td>Medicare</td>\n",
              "      <td>0.00</td>\n",
              "      <td>10.50</td>\n",
              "      <td>[{'chargeAmount': 5.5, 'units': 2.0}, {'chargeAmount': 3.75, 'units': 1.0}, {'chargeAmount': 1.25, 'units': 1.0}]</td>\n",
              "    </tr>\n",
              "    <tr>\n",
              "      <th>2</th>\n",
              "      <td>DEF555666777</td>\n",
              "      <td>Commercial</td>\n",
              "      <td>0.00</td>\n",
              "      <td>12.50</td>\n",
              "      <td>[{'chargeAmount': 12.5, 'units': 1.0}]</td>\n",
              "    </tr>\n",
              "  </tbody>\n",
              "</table>"
            ],
            "text/plain": [
              "DataFrame[claimId: string, lineOfBusiness: string, original_totalCharges: double, calculated_totalCharges: double, claimDetail: array<struct<chargeAmount:double,units:double>>]"
            ]
          },
          "execution_count": 6,
          "metadata": {},
          "output_type": "execute_result"
        }
      ],
      "source": [
        "%sql\n",
        "-- Method 1: Using aggregate() function\n",
        "SELECT \n",
        "    claimHeader.claimId,\n",
        "    claimHeader.lineOfBusiness,\n",
        "    claimHeader.totalCharges as original_totalCharges,\n",
        "    -- Sum all chargeAmount values in the claimDetail array\n",
        "    aggregate(\n",
        "        claimDetail, \n",
        "        CAST(0.0 AS DOUBLE), -- initial value with explicit cast\n",
        "        (acc, detail) -> acc + detail.chargeAmount\n",
        "    ) as calculated_totalCharges,\n",
        "    claimDetail\n",
        "FROM claims_table\n"
      ]
    },
    {
      "cell_type": "markdown",
      "metadata": {},
      "source": [
        "## Method 2: Using `transform()` and `array_sum()`\n",
        "\n",
        "This approach first extracts all charge amounts into a simple array, then sums them.\n"
      ]
    },
    {
      "cell_type": "code",
      "execution_count": 7,
      "metadata": {
        "vscode": {
          "languageId": "sql"
        }
      },
      "outputs": [
        {
          "data": {
            "text/html": [
              "<table border=\"1\" class=\"dataframe\">\n",
              "  <thead>\n",
              "    <tr style=\"text-align: right;\">\n",
              "      <th></th>\n",
              "      <th>claimId</th>\n",
              "      <th>lineOfBusiness</th>\n",
              "      <th>calculated_totalCharges</th>\n",
              "      <th>chargeAmounts_array</th>\n",
              "    </tr>\n",
              "  </thead>\n",
              "  <tbody>\n",
              "    <tr>\n",
              "      <th>0</th>\n",
              "      <td>ABC123456789</td>\n",
              "      <td>Medicaid</td>\n",
              "      <td>3.25</td>\n",
              "      <td>[1.25, 2.0]</td>\n",
              "    </tr>\n",
              "    <tr>\n",
              "      <th>1</th>\n",
              "      <td>XYZ987654321</td>\n",
              "      <td>Medicare</td>\n",
              "      <td>10.50</td>\n",
              "      <td>[5.5, 3.75, 1.25]</td>\n",
              "    </tr>\n",
              "    <tr>\n",
              "      <th>2</th>\n",
              "      <td>DEF555666777</td>\n",
              "      <td>Commercial</td>\n",
              "      <td>12.50</td>\n",
              "      <td>[12.5]</td>\n",
              "    </tr>\n",
              "  </tbody>\n",
              "</table>"
            ],
            "text/plain": [
              "DataFrame[claimId: string, lineOfBusiness: string, calculated_totalCharges: double, chargeAmounts_array: array<double>]"
            ]
          },
          "execution_count": 7,
          "metadata": {},
          "output_type": "execute_result"
        }
      ],
      "source": [
        "%sql\n",
        "-- Method 2: Using transform() and reduce()\n",
        "SELECT \n",
        "    claimHeader.claimId,\n",
        "    claimHeader.lineOfBusiness,\n",
        "    -- Extract all chargeAmount values and sum them using reduce\n",
        "    reduce(\n",
        "        transform(claimDetail, detail -> detail.chargeAmount),\n",
        "        CAST(0.0 AS DOUBLE),\n",
        "        (acc, x) -> acc + x\n",
        "    ) as calculated_totalCharges,\n",
        "    -- Show the intermediate array for understanding\n",
        "    transform(claimDetail, detail -> detail.chargeAmount) as chargeAmounts_array\n",
        "FROM claims_table\n"
      ]
    },
    {
      "cell_type": "markdown",
      "metadata": {},
      "source": [
        "## Method 3: Rebuilding the STRUCT with Calculated Total\n",
        "\n",
        "This shows how to rebuild your STRUCT with the corrected `totalCharges` field\n"
      ]
    },
    {
      "cell_type": "code",
      "execution_count": 8,
      "metadata": {
        "vscode": {
          "languageId": "sql"
        }
      },
      "outputs": [
        {
          "data": {
            "text/html": [
              "<table border=\"1\" class=\"dataframe\">\n",
              "  <thead>\n",
              "    <tr style=\"text-align: right;\">\n",
              "      <th></th>\n",
              "      <th>claimHeader</th>\n",
              "      <th>claimDetail</th>\n",
              "    </tr>\n",
              "  </thead>\n",
              "  <tbody>\n",
              "    <tr>\n",
              "      <th>0</th>\n",
              "      <td>{'claimId': 'ABC123456789', 'lineOfBusiness': 'Medicaid', 'totalCharges': 3.25}</td>\n",
              "      <td>[{'chargeAmount': 1.25, 'units': 1.0}, {'chargeAmount': 2.0, 'units': 1.0}]</td>\n",
              "    </tr>\n",
              "    <tr>\n",
              "      <th>1</th>\n",
              "      <td>{'claimId': 'XYZ987654321', 'lineOfBusiness': 'Medicare', 'totalCharges': 10.5}</td>\n",
              "      <td>[{'chargeAmount': 5.5, 'units': 2.0}, {'chargeAmount': 3.75, 'units': 1.0}, {'chargeAmount': 1.25, 'units': 1.0}]</td>\n",
              "    </tr>\n",
              "    <tr>\n",
              "      <th>2</th>\n",
              "      <td>{'claimId': 'DEF555666777', 'lineOfBusiness': 'Commercial', 'totalCharges': 12.5}</td>\n",
              "      <td>[{'chargeAmount': 12.5, 'units': 1.0}]</td>\n",
              "    </tr>\n",
              "  </tbody>\n",
              "</table>"
            ],
            "text/plain": [
              "DataFrame[claimHeader: struct<claimId:string,lineOfBusiness:string,totalCharges:double>, claimDetail: array<struct<chargeAmount:double,units:double>>]"
            ]
          },
          "execution_count": 8,
          "metadata": {},
          "output_type": "execute_result"
        }
      ],
      "source": [
        "%sql\n",
        "-- Method 3: Rebuilding the STRUCT with calculated totalCharges\n",
        "SELECT \n",
        "    struct(\n",
        "        claimHeader.claimId as claimId,\n",
        "        claimHeader.lineOfBusiness as lineOfBusiness,\n",
        "        -- Calculate totalCharges from claimDetail array\n",
        "        aggregate(\n",
        "            claimDetail, \n",
        "            CAST(0.0 AS DOUBLE), \n",
        "            (acc, detail) -> acc + detail.chargeAmount\n",
        "        ) as totalCharges\n",
        "    ) as claimHeader,\n",
        "    claimDetail\n",
        "FROM claims_table\n"
      ]
    },
    {
      "cell_type": "markdown",
      "metadata": {},
      "source": [
        "## Method 4: Complex Aggregations\n",
        "\n",
        "You can also perform more complex aggregations, like calculating both sum and count, or conditional sums.\n"
      ]
    },
    {
      "cell_type": "code",
      "execution_count": 9,
      "metadata": {
        "vscode": {
          "languageId": "sql"
        }
      },
      "outputs": [
        {
          "data": {
            "text/html": [
              "<table border=\"1\" class=\"dataframe\">\n",
              "  <thead>\n",
              "    <tr style=\"text-align: right;\">\n",
              "      <th></th>\n",
              "      <th>claimId</th>\n",
              "      <th>lineOfBusiness</th>\n",
              "      <th>total_charges</th>\n",
              "      <th>line_item_count</th>\n",
              "      <th>avg_charge_per_line</th>\n",
              "      <th>total_units</th>\n",
              "      <th>high_charges_total</th>\n",
              "    </tr>\n",
              "  </thead>\n",
              "  <tbody>\n",
              "    <tr>\n",
              "      <th>0</th>\n",
              "      <td>ABC123456789</td>\n",
              "      <td>Medicaid</td>\n",
              "      <td>3.25</td>\n",
              "      <td>2</td>\n",
              "      <td>1.625</td>\n",
              "      <td>2.0</td>\n",
              "      <td>0.00</td>\n",
              "    </tr>\n",
              "    <tr>\n",
              "      <th>1</th>\n",
              "      <td>XYZ987654321</td>\n",
              "      <td>Medicare</td>\n",
              "      <td>10.50</td>\n",
              "      <td>3</td>\n",
              "      <td>3.500</td>\n",
              "      <td>4.0</td>\n",
              "      <td>9.25</td>\n",
              "    </tr>\n",
              "    <tr>\n",
              "      <th>2</th>\n",
              "      <td>DEF555666777</td>\n",
              "      <td>Commercial</td>\n",
              "      <td>12.50</td>\n",
              "      <td>1</td>\n",
              "      <td>12.500</td>\n",
              "      <td>1.0</td>\n",
              "      <td>12.50</td>\n",
              "    </tr>\n",
              "  </tbody>\n",
              "</table>"
            ],
            "text/plain": [
              "DataFrame[claimId: string, lineOfBusiness: string, total_charges: double, line_item_count: int, avg_charge_per_line: double, total_units: double, high_charges_total: double]"
            ]
          },
          "execution_count": 9,
          "metadata": {},
          "output_type": "execute_result"
        }
      ],
      "source": [
        "%sql\n",
        "-- Method 4: Complex aggregations - sum, count, averages, and conditional logic\n",
        "SELECT \n",
        "    claimHeader.claimId,\n",
        "    claimHeader.lineOfBusiness,\n",
        "    -- Sum of all charges\n",
        "    aggregate(\n",
        "        claimDetail, \n",
        "        CAST(0.0 AS DOUBLE), \n",
        "        (acc, detail) -> acc + detail.chargeAmount\n",
        "    ) as total_charges,\n",
        "    -- Count of line items\n",
        "    size(claimDetail) as line_item_count,\n",
        "    -- Average charge per line item\n",
        "    aggregate(\n",
        "        claimDetail, \n",
        "        CAST(0.0 AS DOUBLE), \n",
        "        (acc, detail) -> acc + detail.chargeAmount\n",
        "    ) / size(claimDetail) as avg_charge_per_line,\n",
        "    -- Sum of units\n",
        "    aggregate(\n",
        "        claimDetail, \n",
        "        CAST(0.0 AS DOUBLE), \n",
        "        (acc, detail) -> acc + detail.units\n",
        "    ) as total_units,\n",
        "    -- Conditional sum: only charges > 2.00\n",
        "    aggregate(\n",
        "        claimDetail, \n",
        "        CAST(0.0 AS DOUBLE), \n",
        "        (acc, detail) -> CASE WHEN detail.chargeAmount > 2.0 THEN acc + detail.chargeAmount ELSE acc END\n",
        "    ) as high_charges_total\n",
        "FROM claims_table\n"
      ]
    },
    {
      "cell_type": "markdown",
      "metadata": {},
      "source": [
        "## Method 5: LATERAL VIEW EXPLODE Syntax\n",
        "\n",
        "Using the traditional `LATERAL VIEW EXPLODE` syntax which is widely supported across Spark/Databricks versions.\n"
      ]
    },
    {
      "cell_type": "code",
      "execution_count": 11,
      "metadata": {
        "vscode": {
          "languageId": "sql"
        }
      },
      "outputs": [
        {
          "data": {
            "application/vnd.jupyter.widget-view+json": {
              "model_id": "6f59d8fdf9af44408f6b4aebb4699b15",
              "version_major": 2,
              "version_minor": 0
            },
            "text/plain": [
              "HBox(children=(IntProgress(value=0, bar_style='success'), Label(value='')))"
            ]
          },
          "metadata": {},
          "output_type": "display_data"
        },
        {
          "data": {
            "text/html": [
              "<table border=\"1\" class=\"dataframe\">\n",
              "  <thead>\n",
              "    <tr style=\"text-align: right;\">\n",
              "      <th></th>\n",
              "      <th>claimId</th>\n",
              "      <th>lineOfBusiness</th>\n",
              "      <th>original_totalCharges</th>\n",
              "      <th>calculated_totalCharges</th>\n",
              "    </tr>\n",
              "  </thead>\n",
              "  <tbody>\n",
              "    <tr>\n",
              "      <th>0</th>\n",
              "      <td>ABC123456789</td>\n",
              "      <td>Medicaid</td>\n",
              "      <td>3.25</td>\n",
              "      <td>3.25</td>\n",
              "    </tr>\n",
              "    <tr>\n",
              "      <th>1</th>\n",
              "      <td>XYZ987654321</td>\n",
              "      <td>Medicare</td>\n",
              "      <td>0.00</td>\n",
              "      <td>10.50</td>\n",
              "    </tr>\n",
              "    <tr>\n",
              "      <th>2</th>\n",
              "      <td>DEF555666777</td>\n",
              "      <td>Commercial</td>\n",
              "      <td>0.00</td>\n",
              "      <td>12.50</td>\n",
              "    </tr>\n",
              "  </tbody>\n",
              "</table>"
            ],
            "text/plain": [
              "DataFrame[claimId: string, lineOfBusiness: string, original_totalCharges: double, calculated_totalCharges: double]"
            ]
          },
          "execution_count": 11,
          "metadata": {},
          "output_type": "execute_result"
        }
      ],
      "source": [
        "%sql\n",
        "-- Method 5a: Using LATERAL VIEW EXPLODE syntax to sum charges\n",
        "SELECT \n",
        "    claimHeader.claimId,\n",
        "    claimHeader.lineOfBusiness,\n",
        "    claimHeader.totalCharges as original_totalCharges,\n",
        "    SUM(detail.chargeAmount) as calculated_totalCharges\n",
        "FROM claims_table\n",
        "LATERAL VIEW EXPLODE(claimDetail) t AS detail\n",
        "GROUP BY \n",
        "    claimHeader.claimId,\n",
        "    claimHeader.lineOfBusiness,\n",
        "    claimHeader.totalCharges\n"
      ]
    },
    {
      "cell_type": "code",
      "execution_count": 12,
      "metadata": {
        "vscode": {
          "languageId": "sql"
        }
      },
      "outputs": [
        {
          "data": {
            "application/vnd.jupyter.widget-view+json": {
              "model_id": "a2740cc5dca74ac8bfa708d4f36be841",
              "version_major": 2,
              "version_minor": 0
            },
            "text/plain": [
              "HBox(children=(IntProgress(value=0, bar_style='success'), Label(value='')))"
            ]
          },
          "metadata": {},
          "output_type": "display_data"
        },
        {
          "data": {
            "text/html": [
              "<table border=\"1\" class=\"dataframe\">\n",
              "  <thead>\n",
              "    <tr style=\"text-align: right;\">\n",
              "      <th></th>\n",
              "      <th>claimHeader</th>\n",
              "      <th>claimDetail</th>\n",
              "    </tr>\n",
              "  </thead>\n",
              "  <tbody>\n",
              "    <tr>\n",
              "      <th>0</th>\n",
              "      <td>{'claimId': 'ABC123456789', 'lineOfBusiness': 'Medicaid', 'totalCharges': 3.25}</td>\n",
              "      <td>[{'chargeAmount': 1.25, 'units': 1.0}, {'chargeAmount': 2.0, 'units': 1.0}]</td>\n",
              "    </tr>\n",
              "    <tr>\n",
              "      <th>1</th>\n",
              "      <td>{'claimId': 'XYZ987654321', 'lineOfBusiness': 'Medicare', 'totalCharges': 10.5}</td>\n",
              "      <td>[{'chargeAmount': 5.5, 'units': 2.0}, {'chargeAmount': 3.75, 'units': 1.0}, {'chargeAmount': 1.25, 'units': 1.0}]</td>\n",
              "    </tr>\n",
              "    <tr>\n",
              "      <th>2</th>\n",
              "      <td>{'claimId': 'DEF555666777', 'lineOfBusiness': 'Commercial', 'totalCharges': 12.5}</td>\n",
              "      <td>[{'chargeAmount': 12.5, 'units': 1.0}]</td>\n",
              "    </tr>\n",
              "  </tbody>\n",
              "</table>"
            ],
            "text/plain": [
              "DataFrame[claimHeader: struct<claimId:string,lineOfBusiness:string,totalCharges:double>, claimDetail: array<struct<chargeAmount:double,units:double>>]"
            ]
          },
          "execution_count": 12,
          "metadata": {},
          "output_type": "execute_result"
        }
      ],
      "source": [
        "%sql\n",
        "-- Method 5b: Rebuilding the complete STRUCT with LATERAL VIEW EXPLODE syntax\n",
        "WITH exploded_data AS (\n",
        "    SELECT \n",
        "        claimHeader,\n",
        "        detail.chargeAmount,\n",
        "        detail.units\n",
        "    FROM claims_table\n",
        "    LATERAL VIEW EXPLODE(claimDetail) t AS detail\n",
        "),\n",
        "aggregated_data AS (\n",
        "    SELECT \n",
        "        claimHeader.claimId,\n",
        "        claimHeader.lineOfBusiness,\n",
        "        SUM(chargeAmount) as total_charges,\n",
        "        -- Reconstruct the original claimDetail array using collect_list\n",
        "        collect_list(struct(chargeAmount, units)) as claimDetail\n",
        "    FROM exploded_data\n",
        "    GROUP BY \n",
        "        claimHeader.claimId,\n",
        "        claimHeader.lineOfBusiness\n",
        ")\n",
        "SELECT \n",
        "    struct(\n",
        "        claimId,\n",
        "        lineOfBusiness,\n",
        "        total_charges as totalCharges\n",
        "    ) as claimHeader,\n",
        "    claimDetail\n",
        "FROM aggregated_data\n"
      ]
    },
    {
      "cell_type": "markdown",
      "metadata": {},
      "source": [
        "## Method 6: More Complex Aggregations with Modern EXPLODE\n",
        "\n",
        "This shows how to perform multiple aggregations using the new EXPLODE syntax.\n"
      ]
    },
    {
      "cell_type": "code",
      "execution_count": 13,
      "metadata": {
        "vscode": {
          "languageId": "sql"
        }
      },
      "outputs": [
        {
          "data": {
            "application/vnd.jupyter.widget-view+json": {
              "model_id": "6f44b1e7cd184bd3b16455a90da44995",
              "version_major": 2,
              "version_minor": 0
            },
            "text/plain": [
              "HBox(children=(IntProgress(value=0, bar_style='success'), Label(value='')))"
            ]
          },
          "metadata": {},
          "output_type": "display_data"
        },
        {
          "data": {
            "text/html": [
              "<table border=\"1\" class=\"dataframe\">\n",
              "  <thead>\n",
              "    <tr style=\"text-align: right;\">\n",
              "      <th></th>\n",
              "      <th>claimId</th>\n",
              "      <th>lineOfBusiness</th>\n",
              "      <th>total_charges</th>\n",
              "      <th>line_item_count</th>\n",
              "      <th>avg_charge_per_line</th>\n",
              "      <th>total_units</th>\n",
              "      <th>high_charges_total</th>\n",
              "      <th>min_charge</th>\n",
              "      <th>max_charge</th>\n",
              "    </tr>\n",
              "  </thead>\n",
              "  <tbody>\n",
              "    <tr>\n",
              "      <th>0</th>\n",
              "      <td>ABC123456789</td>\n",
              "      <td>Medicaid</td>\n",
              "      <td>3.25</td>\n",
              "      <td>2</td>\n",
              "      <td>1.625</td>\n",
              "      <td>2.0</td>\n",
              "      <td>0.00</td>\n",
              "      <td>1.25</td>\n",
              "      <td>2.0</td>\n",
              "    </tr>\n",
              "    <tr>\n",
              "      <th>1</th>\n",
              "      <td>XYZ987654321</td>\n",
              "      <td>Medicare</td>\n",
              "      <td>10.50</td>\n",
              "      <td>3</td>\n",
              "      <td>3.500</td>\n",
              "      <td>4.0</td>\n",
              "      <td>9.25</td>\n",
              "      <td>1.25</td>\n",
              "      <td>5.5</td>\n",
              "    </tr>\n",
              "    <tr>\n",
              "      <th>2</th>\n",
              "      <td>DEF555666777</td>\n",
              "      <td>Commercial</td>\n",
              "      <td>12.50</td>\n",
              "      <td>1</td>\n",
              "      <td>12.500</td>\n",
              "      <td>1.0</td>\n",
              "      <td>12.50</td>\n",
              "      <td>12.50</td>\n",
              "      <td>12.5</td>\n",
              "    </tr>\n",
              "  </tbody>\n",
              "</table>"
            ],
            "text/plain": [
              "DataFrame[claimId: string, lineOfBusiness: string, total_charges: double, line_item_count: bigint, avg_charge_per_line: double, total_units: double, high_charges_total: double, min_charge: double, max_charge: double]"
            ]
          },
          "execution_count": 13,
          "metadata": {},
          "output_type": "execute_result"
        }
      ],
      "source": [
        "%sql\n",
        "-- Method 6: Complex aggregations with LATERAL VIEW EXPLODE syntax\n",
        "SELECT \n",
        "    claimHeader.claimId,\n",
        "    claimHeader.lineOfBusiness,\n",
        "    SUM(detail.chargeAmount) as total_charges,\n",
        "    COUNT(*) as line_item_count,\n",
        "    AVG(detail.chargeAmount) as avg_charge_per_line,\n",
        "    SUM(detail.units) as total_units,\n",
        "    SUM(CASE WHEN detail.chargeAmount > 2.0 THEN detail.chargeAmount ELSE 0 END) as high_charges_total,\n",
        "    MIN(detail.chargeAmount) as min_charge,\n",
        "    MAX(detail.chargeAmount) as max_charge\n",
        "FROM claims_table\n",
        "LATERAL VIEW EXPLODE(claimDetail) t AS detail\n",
        "GROUP BY \n",
        "    claimHeader.claimId,\n",
        "    claimHeader.lineOfBusiness\n"
      ]
    },
    {
      "cell_type": "markdown",
      "metadata": {},
      "source": [
        "## Comparison: Modern EXPLODE vs Higher-Order Functions\n",
        "\n",
        "### Modern EXPLODE Syntax (Methods 5 & 6):\n",
        "**Pros:**\n",
        "- ✅ Familiar SQL aggregation syntax (`SUM`, `COUNT`, `AVG`)\n",
        "- ✅ Easy to understand for SQL developers\n",
        "- ✅ Great for complex multi-column aggregations\n",
        "- ✅ No deprecated `LATERAL VIEW` syntax\n",
        "\n",
        "**Cons:**\n",
        "- ❌ Creates temporary rows (less memory efficient for large arrays)\n",
        "- ❌ Requires `GROUP BY` and reconstruction for maintaining structure\n",
        "\n",
        "### Higher-Order Functions (Methods 1-4):\n",
        "**Pros:**\n",
        "- ✅ No row expansion - processes arrays in-place\n",
        "- ✅ Better performance for large nested arrays\n",
        "- ✅ Maintains data structure without reconstruction\n",
        "\n",
        "**Cons:**\n",
        "- ❌ More complex syntax\n",
        "- ❌ Requires understanding of lambda functions\n",
        "\n",
        "### Recommendation:\n",
        "- **Use Modern EXPLODE** for: Complex aggregations, multiple metrics, when SQL familiarity is important\n",
        "- **Use Higher-Order Functions** for: Simple aggregations, performance-critical applications, very large nested arrays\n"
      ]
    }
  ],
  "metadata": {
    "kernelspec": {
      "display_name": "azure_databricks",
      "language": "python",
      "name": "python3"
    },
    "language_info": {
      "codemirror_mode": {
        "name": "ipython",
        "version": 3
      },
      "file_extension": ".py",
      "mimetype": "text/x-python",
      "name": "python",
      "nbconvert_exporter": "python",
      "pygments_lexer": "ipython3",
      "version": "3.12.0"
    }
  },
  "nbformat": 4,
  "nbformat_minor": 2
}
